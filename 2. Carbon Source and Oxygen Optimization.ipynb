{
 "cells": [
  {
   "cell_type": "code",
   "execution_count": 1,
   "id": "4708af34",
   "metadata": {},
   "outputs": [],
   "source": [
    "from cobra.io import read_sbml_model\n",
    "model = read_sbml_model('iYO844.xml')"
   ]
  },
  {
   "cell_type": "code",
   "execution_count": 2,
   "id": "34f7a58d",
   "metadata": {},
   "outputs": [
    {
     "data": {
      "text/html": [
       "\n",
       "        <table>\n",
       "            <tr>\n",
       "                <td><strong>Name</strong></td>\n",
       "                <td>iYO844</td>\n",
       "            </tr><tr>\n",
       "                <td><strong>Memory address</strong></td>\n",
       "                <td>0x02957007a940</td>\n",
       "            </tr><tr>\n",
       "                <td><strong>Number of metabolites</strong></td>\n",
       "                <td>990</td>\n",
       "            </tr><tr>\n",
       "                <td><strong>Number of reactions</strong></td>\n",
       "                <td>1250</td>\n",
       "            </tr><tr>\n",
       "                <td><strong>Number of groups</strong></td>\n",
       "                <td>0</td>\n",
       "            </tr><tr>\n",
       "                <td><strong>Objective expression</strong></td>\n",
       "                <td>1.0*BIOMASS_BS_10 - 1.0*BIOMASS_BS_10_reverse_8788b</td>\n",
       "            </tr><tr>\n",
       "                <td><strong>Compartments</strong></td>\n",
       "                <td>cytosol, extracellular space</td>\n",
       "            </tr>\n",
       "          </table>"
      ],
      "text/plain": [
       "<Model iYO844 at 0x2957007a940>"
      ]
     },
     "execution_count": 2,
     "metadata": {},
     "output_type": "execute_result"
    }
   ],
   "source": [
    "model"
   ]
  },
  {
   "cell_type": "code",
   "execution_count": 3,
   "id": "a56441b8",
   "metadata": {},
   "outputs": [],
   "source": [
    "max_growth=model.optimize().objective_value"
   ]
  },
  {
   "cell_type": "code",
   "execution_count": 4,
   "id": "e762c3c3",
   "metadata": {},
   "outputs": [
    {
     "name": "stdout",
     "output_type": "stream",
     "text": [
      "0.3030802735713299 0.02359327786447964\n"
     ]
    }
   ],
   "source": [
    "model.objective=model.reactions.EX_ribflv_e\n",
    "model.reactions.BIOMASS_BS_10.lower_bound=0.2*max_growth\n",
    "solution_ribflv=model.optimize()\n",
    "print(solution_ribflv.objective_value,solution_ribflv.fluxes.BIOMASS_BS_10)"
   ]
  },
  {
   "cell_type": "code",
   "execution_count": 5,
   "id": "26f99efd",
   "metadata": {},
   "outputs": [
    {
     "name": "stdout",
     "output_type": "stream",
     "text": [
      "Wall time: 350 ms\n"
     ]
    }
   ],
   "source": [
    "%%time\n",
    "copy_of_model = model.copy()"
   ]
  },
  {
   "cell_type": "code",
   "execution_count": 6,
   "id": "0c64e937",
   "metadata": {},
   "outputs": [
    {
     "name": "stdout",
     "output_type": "stream",
     "text": [
      "Wall time: 4min 14s\n"
     ]
    }
   ],
   "source": [
    "%%time\n",
    "for gene in model.genes:\n",
    "    mutant = model.copy()\n",
    "    mutant.genes.get_by_id(gene.id).knock_out()"
   ]
  },
  {
   "cell_type": "code",
   "execution_count": 7,
   "id": "a7458318",
   "metadata": {},
   "outputs": [
    {
     "name": "stdout",
     "output_type": "stream",
     "text": [
      "Wall time: 149 ms\n"
     ]
    }
   ],
   "source": [
    "%%time\n",
    "with model:\n",
    "    for gene in model.genes:\n",
    "        gene.knock_out()"
   ]
  },
  {
   "cell_type": "code",
   "execution_count": 8,
   "id": "9012862f",
   "metadata": {},
   "outputs": [
    {
     "name": "stdout",
     "output_type": "stream",
     "text": [
      "BGLA1's bounds inside the with statement\n",
      "0.0 (0.0, 999999.0)\n",
      "Mutant growth rate:  0.3030802735713299\n",
      "BGLA1's bounds outside the with statement\n",
      "(0.0, 999999.0)\n"
     ]
    }
   ],
   "source": [
    "with model:\n",
    "    model.reactions.bounds = 0, 0\n",
    "    print(\"BGLA1's bounds inside the with statement\")\n",
    "    print(model.reactions.BGLA1.lower_bound, model.reactions.BGLA1.bounds)\n",
    "    print('Mutant growth rate: ', model.optimize().objective_value)\n",
    "print(\"BGLA1's bounds outside the with statement\")\n",
    "print(model.reactions.BGLA1.bounds)"
   ]
  },
  {
   "cell_type": "code",
   "execution_count": 9,
   "id": "7547abca",
   "metadata": {},
   "outputs": [
    {
     "name": "stdout",
     "output_type": "stream",
     "text": [
      "Wall time: 12.6 ms\n"
     ]
    },
    {
     "data": {
      "text/plain": [
       "9.0"
      ]
     },
     "execution_count": 9,
     "metadata": {},
     "output_type": "execute_result"
    }
   ],
   "source": [
    "%%time\n",
    "solution = model. optimize()\n",
    "solution.fluxes['ATPM']"
   ]
  },
  {
   "cell_type": "code",
   "execution_count": 10,
   "id": "b1643954",
   "metadata": {},
   "outputs": [
    {
     "name": "stdout",
     "output_type": "stream",
     "text": [
      "Wall time: 0 ns\n"
     ]
    },
    {
     "data": {
      "text/plain": [
       "9.0"
      ]
     },
     "execution_count": 10,
     "metadata": {},
     "output_type": "execute_result"
    }
   ],
   "source": [
    "%%time\n",
    "model.slim_optimize()\n",
    "model.reactions.ATPM.flux"
   ]
  },
  {
   "cell_type": "code",
   "execution_count": 11,
   "id": "652d76fc",
   "metadata": {},
   "outputs": [
    {
     "data": {
      "text/plain": [
       "{'EX_fe3_e': 999999.0,\n",
       " 'EX_glc__D_e': 1.7,\n",
       " 'EX_ca2_e': 999999.0,\n",
       " 'EX_so4_e': 5.0,\n",
       " 'EX_co2_e': 999999.0,\n",
       " 'EX_h2o_e': 999999.0,\n",
       " 'EX_h_e': 999999.0,\n",
       " 'EX_k_e': 999999.0,\n",
       " 'EX_mg2_e': 999999.0,\n",
       " 'EX_na1_e': 999999.0,\n",
       " 'EX_nh4_e': 5.0,\n",
       " 'EX_o2_e': 999999.0,\n",
       " 'EX_pi_e': 5.0}"
      ]
     },
     "execution_count": 11,
     "metadata": {},
     "output_type": "execute_result"
    }
   ],
   "source": [
    "model.medium"
   ]
  },
  {
   "cell_type": "code",
   "execution_count": 12,
   "id": "dc67633e",
   "metadata": {},
   "outputs": [],
   "source": [
    "solution = model.optimize()"
   ]
  },
  {
   "cell_type": "code",
   "execution_count": 13,
   "id": "e7baca63",
   "metadata": {},
   "outputs": [
    {
     "data": {
      "text/plain": [
       "EX_etha_e    0.000000\n",
       "EX_drib_e    0.000000\n",
       "EX_csn_e     0.000000\n",
       "EX_5mtr_e    0.000000\n",
       "EX_dtmp_e    0.000000\n",
       "               ...   \n",
       "GND          0.000000\n",
       "PGK         -1.815763\n",
       "PGLYCP       0.000000\n",
       "PGM         -1.489707\n",
       "PHCYT_BS     0.001812\n",
       "Name: fluxes, Length: 1250, dtype: float64"
      ]
     },
     "execution_count": 13,
     "metadata": {},
     "output_type": "execute_result"
    }
   ],
   "source": [
    "solution.fluxes"
   ]
  },
  {
   "cell_type": "code",
   "execution_count": 14,
   "id": "68ec6490",
   "metadata": {},
   "outputs": [
    {
     "name": "stdout",
     "output_type": "stream",
     "text": [
      "-0.23735877977639705\n",
      "0.02359327786447964\n"
     ]
    },
    {
     "name": "stderr",
     "output_type": "stream",
     "text": [
      "C:\\Users\\13512\\anaconda3\\lib\\site-packages\\cobra\\util\\solver.py:554: UserWarning: Solver status is 'infeasible'.\n",
      "  warn(f\"Solver status is '{status}'.\", UserWarning)\n",
      "C:\\Users\\13512\\anaconda3\\lib\\site-packages\\cobra\\util\\solver.py:554: UserWarning: Solver status is 'infeasible'.\n",
      "  warn(f\"Solver status is '{status}'.\", UserWarning)\n"
     ]
    }
   ],
   "source": [
    "medium = model.medium\n",
    "with model:\n",
    "    medium['EX_glc__D_e'] =0\n",
    "    model.medium = medium\n",
    "    solution = model.optimize()\n",
    "    print(solution.fluxes['EX_ribflv_e'])\n",
    "    \n",
    "medium = model.medium\n",
    "with model:\n",
    "    medium['EX_glc__D_e'] =0\n",
    "    model.medium = medium\n",
    "    solution = model.optimize()\n",
    "    print(solution.fluxes['BIOMASS_BS_10'])"
   ]
  },
  {
   "cell_type": "code",
   "execution_count": 15,
   "id": "ad00ba96",
   "metadata": {},
   "outputs": [
    {
     "name": "stdout",
     "output_type": "stream",
     "text": [
      "0.30308027357133016\n"
     ]
    }
   ],
   "source": [
    "medium = model.medium\n",
    "with model:\n",
    "    medium['EX_glc__D_e'] = 1.7\n",
    "    model.medium = medium\n",
    "    solution = model.optimize()\n",
    "    print(solution.fluxes['EX_ribflv_e'])"
   ]
  },
  {
   "cell_type": "code",
   "execution_count": 30,
   "id": "c2bbb954",
   "metadata": {},
   "outputs": [
    {
     "name": "stdout",
     "output_type": "stream",
     "text": [
      "The flux of ribflv_e production:  0.3030802735713336 [mmol gDW^-1 h^-1]\n",
      "The flux of biomass production:  0.11796638932239904 [mmol gDW^-1 h^-1]\n",
      "The molar yield of biomass:  0.06939199371905826 [mmol-biomass / mmol-glc]\n",
      "The molar yield of ribflv_e:  0.17828251386549035 [mmol-ribflv_e / mmol-glc]\n"
     ]
    }
   ],
   "source": [
    "with model:\n",
    "    # calculating max yield of riboflavin\n",
    "    substrate_flux = model.reactions.EX_ribflv_e.flux\n",
    "    model.objective = model.reactions.EX_ribflv_e \n",
    "    max_ribflv_e_production = model.optimize().objective_value\n",
    "    print(\"The flux of ribflv_e production: \",max_ribflv_e_production , \"[mmol gDW^-1 h^-1]\")\n",
    "with model:\n",
    "    # calculating max yield of biomass\n",
    "    substrate_flux = model.reactions.EX_glc__D_e.flux\n",
    "    model.objective = model.reactions.BIOMASS_BS_10\n",
    "    max_biomass_production = model.optimize().objective_value\n",
    "    print(\"The flux of biomass production: \",max_biomass_production , \"[mmol gDW^-1 h^-1]\")\n",
    "    # calculating molar yield\n",
    "    molar_yield_biomass = max_biomass_production / (-1. * substrate_flux)\n",
    "    print(\"The molar yield of biomass: \", molar_yield_biomass, \"[mmol-biomass / mmol-glc]\")\n",
    "    # calculating molar yield\n",
    "    molar_yield_ribflv_e = max_ribflv_e_production / (-1. * substrate_flux)\n",
    "    print(\"The molar yield of ribflv_e: \", molar_yield_ribflv_e, \"[mmol-ribflv_e / mmol-glc]\")"
   ]
  },
  {
   "cell_type": "code",
   "execution_count": 18,
   "id": "9ecee7ed",
   "metadata": {},
   "outputs": [],
   "source": [
    "from cobra.medium import minimal_medium"
   ]
  },
  {
   "cell_type": "code",
   "execution_count": 20,
   "id": "bf24e9c2",
   "metadata": {},
   "outputs": [
    {
     "data": {
      "text/html": [
       "\n",
       "        <table>\n",
       "            <tr>\n",
       "                <td><strong>Name</strong></td>\n",
       "                <td>iYO844</td>\n",
       "            </tr><tr>\n",
       "                <td><strong>Memory address</strong></td>\n",
       "                <td>0x02957007a940</td>\n",
       "            </tr><tr>\n",
       "                <td><strong>Number of metabolites</strong></td>\n",
       "                <td>990</td>\n",
       "            </tr><tr>\n",
       "                <td><strong>Number of reactions</strong></td>\n",
       "                <td>1250</td>\n",
       "            </tr><tr>\n",
       "                <td><strong>Number of groups</strong></td>\n",
       "                <td>0</td>\n",
       "            </tr><tr>\n",
       "                <td><strong>Objective expression</strong></td>\n",
       "                <td>1.0*EX_ribflv_e - 1.0*EX_ribflv_e_reverse_d585d</td>\n",
       "            </tr><tr>\n",
       "                <td><strong>Compartments</strong></td>\n",
       "                <td>cytosol, extracellular space</td>\n",
       "            </tr>\n",
       "          </table>"
      ],
      "text/plain": [
       "<Model iYO844 at 0x2957007a940>"
      ]
     },
     "execution_count": 20,
     "metadata": {},
     "output_type": "execute_result"
    }
   ],
   "source": [
    "model"
   ]
  },
  {
   "cell_type": "code",
   "execution_count": 22,
   "id": "8fd37de1",
   "metadata": {},
   "outputs": [],
   "source": [
    "max_growth=model.slim_optimize()"
   ]
  },
  {
   "cell_type": "code",
   "execution_count": 27,
   "id": "6bd4791c",
   "metadata": {},
   "outputs": [
    {
     "data": {
      "text/plain": [
       "EX_fe3_e       0.000081\n",
       "EX_glc__D_e    1.642280\n",
       "EX_ca2_e       0.000076\n",
       "EX_so4_e       0.004018\n",
       "EX_k_e         0.016664\n",
       "EX_mg2_e       0.002400\n",
       "EX_nh4_e       0.588993\n",
       "EX_o2_e        2.548431\n",
       "EX_pi_e        0.036211\n",
       "dtype: float64"
      ]
     },
     "execution_count": 27,
     "metadata": {},
     "output_type": "execute_result"
    }
   ],
   "source": [
    "minimal_medium(model)"
   ]
  },
  {
   "cell_type": "code",
   "execution_count": 29,
   "id": "394fbd3b",
   "metadata": {},
   "outputs": [
    {
     "name": "stdout",
     "output_type": "stream",
     "text": [
      "The flux of ribflv_e production:  0.3030802735713336 [mmol gDW^-1 h^-1]\n",
      "The molar yield of ribflv_e:  0.18480504486056928 [mmol-ribflv_e / mmol-glc]\n",
      "The flux of biomass production:  0.11796638932239904 [mmol gDW^-1 h^-1]\n",
      "The molar yield of biomass:  0.06939199371905826 [mmol-biomass / mmol-glc]\n"
     ]
    }
   ],
   "source": [
    "# Glucose content with minimal medium\n",
    "medium=model.medium\n",
    "with model:\n",
    "    medium['EX_glc__D_e'] = 1.64\n",
    "    model.medium = medium\n",
    "    solution = model.optimize()\n",
    "medium = model.medium\n",
    "with model:\n",
    "    medium['EX_glc__D_e'] = 1.64\n",
    "    model.medium = medium\n",
    "    solution = model.optimize()\n",
    "\n",
    "with model:\n",
    "    # calculating max yield of riboflavin\n",
    "    substrate_flux = model.reactions.EX_glc__D_e.flux\n",
    "    model.objective = model.reactions.EX_ribflv_e \n",
    "    max_ribflv_e_production = model.optimize().objective_value\n",
    "    print(\"The flux of ribflv_e production: \",max_ribflv_e_production , \"[mmol gDW^-1 h^-1]\")\n",
    "    # calculating molar yield\n",
    "    molar_yield_ribflv_e = max_ribflv_e_production / (-1. * substrate_flux)\n",
    "    print(\"The molar yield of ribflv_e: \", molar_yield_ribflv_e, \"[mmol-ribflv_e / mmol-glc]\")   \n",
    "with model:\n",
    "    # calculating max yield of riboflavin\n",
    "    substrate_flux = model.reactions.EX_glc__D_e.flux\n",
    "    model.objective = model.reactions.BIOMASS_BS_10\n",
    "    max_biomass_production = model.optimize().objective_value\n",
    "    print(\"The flux of biomass production: \",max_biomass_production , \"[mmol gDW^-1 h^-1]\")\n",
    "    # calculating molar yield\n",
    "    molar_yield_biomass = max_biomass_production / (-1. * substrate_flux)\n",
    "    print(\"The molar yield of biomass: \", molar_yield_biomass, \"[mmol-biomass / mmol-glc]\")"
   ]
  },
  {
   "cell_type": "code",
   "execution_count": 32,
   "id": "1af99d10",
   "metadata": {},
   "outputs": [
    {
     "name": "stdout",
     "output_type": "stream",
     "text": [
      "The flux of ribflv_e production:  0.3030802735713295 [mmol gDW^-1 h^-1]\n",
      "The molar yield of ribflv_e:  0.08378720892328533 [mmol-ribflv_e / mmol-sub]\n",
      "The flux of biomass production:  0.11796638932239743 [mmol gDW^-1 h^-1]\n",
      "The molar yield of biomass:  0.01917561667316124 [mmol-biomass / mmol-sub]\n"
     ]
    },
    {
     "name": "stderr",
     "output_type": "stream",
     "text": [
      "C:\\Users\\13512\\anaconda3\\lib\\site-packages\\cobra\\util\\solver.py:554: UserWarning: Solver status is 'infeasible'.\n",
      "  warn(f\"Solver status is '{status}'.\", UserWarning)\n",
      "C:\\Users\\13512\\anaconda3\\lib\\site-packages\\cobra\\util\\solver.py:554: UserWarning: Solver status is 'infeasible'.\n",
      "  warn(f\"Solver status is '{status}'.\", UserWarning)\n"
     ]
    }
   ],
   "source": [
    "# Anaerobic condition \n",
    "medium = model.medium\n",
    "with model:\n",
    "    medium['EX_glc__D_e'] = 1.64\n",
    "    medium['EX_o2_e'] = 0\n",
    "    model.medium = medium\n",
    "    solution = model.optimize()\n",
    "\n",
    "medium = model.medium\n",
    "with model:\n",
    "    medium['EX_glc__D_e'] = 1.64\n",
    "    medium['EX_o2_e'] = 0\n",
    "    model.medium = medium\n",
    "    solution = model.optimize()\n",
    "    \n",
    "with model:\n",
    "    # calculating max yield of riboflavin\n",
    "    substrate_flux = model.reactions.EX_glc__D_e.flux + model.reactions.EX_o2_e.flux\n",
    "    model.objective = model.reactions.EX_ribflv_e \n",
    "    max_ribflv_e_production = model.optimize().objective_value\n",
    "    print(\"The flux of ribflv_e production: \",max_ribflv_e_production , \"[mmol gDW^-1 h^-1]\")\n",
    "    # calculating molar yield\n",
    "    molar_yield_ribflv_e = max_ribflv_e_production / (-1. * substrate_flux)\n",
    "    print(\"The molar yield of ribflv_e: \", molar_yield_ribflv_e, \"[mmol-ribflv_e / mmol-sub]\")\n",
    "with model:\n",
    "    # calculating max yield of riboflavin\n",
    "    substrate_flux = model.reactions.EX_glc__D_e.flux + model.reactions.EX_o2_e.flux\n",
    "    model.objective = model.reactions.BIOMASS_BS_10\n",
    "    max_biomass_production = model.optimize().objective_value\n",
    "    print(\"The flux of biomass production: \",max_biomass_production , \"[mmol gDW^-1 h^-1]\")\n",
    "    # calculating molar yield\n",
    "    molar_yield_biomass = max_biomass_production / (-1. * substrate_flux)\n",
    "    print(\"The molar yield of biomass: \", molar_yield_biomass, \"[mmol-biomass / mmol-sub]\")"
   ]
  },
  {
   "cell_type": "code",
   "execution_count": 33,
   "id": "da98b6b8",
   "metadata": {},
   "outputs": [
    {
     "name": "stdout",
     "output_type": "stream",
     "text": [
      "The flux of ribflv_e production:  0.30308027357133355 [mmol gDW^-1 h^-1]\n",
      "The molar yield of ribflv_e:  0.053737637158037865 [mmol-ribflv_e / mmol-sub]\n",
      "The flux of biomass production:  0.11796638932240001 [mmol gDW^-1 h^-1]\n",
      "The molar yield of biomass:  0.019175616673161686 [mmol-biomass / mmol-sub]\n"
     ]
    }
   ],
   "source": [
    "# Aerobic condition\n",
    "medium = model.medium\n",
    "with model:\n",
    "    medium['EX_glc__D_e'] = 1.64\n",
    "    medium['EX_o2_e'] = 4\n",
    "    model.medium = medium\n",
    "    solution = model.optimize()\n",
    "   \n",
    "medium = model.medium\n",
    "with model:\n",
    "    medium['EX_glc__D_e'] = 1.64\n",
    "    medium['EX_o2_e'] = 4\n",
    "    model.medium = medium\n",
    "    solution = model.optimize()\n",
    "with model:\n",
    "    # calculating max yield of riboflavin\n",
    "    substrate_flux = model.reactions.EX_glc__D_e.flux + model.reactions.EX_o2_e.flux\n",
    "    model.objective = model.reactions.EX_ribflv_e \n",
    "    max_ribflv_e_production = model.optimize().objective_value\n",
    "    print(\"The flux of ribflv_e production: \",max_ribflv_e_production , \"[mmol gDW^-1 h^-1]\")\n",
    "    # calculating molar yield\n",
    "    molar_yield_ribflv_e = max_ribflv_e_production / (-1. * substrate_flux)\n",
    "    print(\"The molar yield of ribflv_e: \", molar_yield_ribflv_e, \"[mmol-ribflv_e / mmol-sub]\")\n",
    "with model:\n",
    "    # calculating max yield of riboflavin\n",
    "    substrate_flux = model.reactions.EX_glc__D_e.flux + model.reactions.EX_o2_e.flux\n",
    "    model.objective = model.reactions.BIOMASS_BS_10\n",
    "    max_biomass_production = model.optimize().objective_value\n",
    "    print(\"The flux of biomass production: \",max_biomass_production , \"[mmol gDW^-1 h^-1]\")\n",
    "    # calculating molar yield\n",
    "    molar_yield_biomass = max_biomass_production / (-1. * substrate_flux)\n",
    "    print(\"The molar yield of biomass: \", molar_yield_biomass, \"[mmol-biomass / mmol-sub]\")"
   ]
  },
  {
   "cell_type": "code",
   "execution_count": null,
   "id": "50996458",
   "metadata": {},
   "outputs": [],
   "source": []
  }
 ],
 "metadata": {
  "kernelspec": {
   "display_name": "Python 3",
   "language": "python",
   "name": "python3"
  },
  "language_info": {
   "codemirror_mode": {
    "name": "ipython",
    "version": 3
   },
   "file_extension": ".py",
   "mimetype": "text/x-python",
   "name": "python",
   "nbconvert_exporter": "python",
   "pygments_lexer": "ipython3",
   "version": "3.8.8"
  }
 },
 "nbformat": 4,
 "nbformat_minor": 5
}
