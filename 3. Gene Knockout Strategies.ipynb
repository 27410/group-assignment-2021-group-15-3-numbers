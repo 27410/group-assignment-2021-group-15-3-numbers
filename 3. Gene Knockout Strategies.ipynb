{
  "nbformat": 4,
  "nbformat_minor": 0,
  "metadata": {
    "colab": {
      "name": "Untitled2.ipynb",
      "provenance": []
    },
    "kernelspec": {
      "name": "python3",
      "display_name": "Python 3"
    },
    "language_info": {
      "name": "python"
    }
  },
  "cells": [
    {
      "cell_type": "code",
      "metadata": {
        "colab": {
          "base_uri": "https://localhost:8080/"
        },
        "id": "Ryar8WTUHpeY",
        "outputId": "1682325e-472f-421f-c958-584440dfaf20"
      },
      "source": [
        "pip install cobra"
      ],
      "execution_count": 2,
      "outputs": [
        {
          "output_type": "stream",
          "name": "stdout",
          "text": [
            "Collecting cobra\n",
            "  Downloading cobra-0.22.1-py2.py3-none-any.whl (2.4 MB)\n",
            "\u001b[?25l\r\u001b[K     |▏                               | 10 kB 23.3 MB/s eta 0:00:01\r\u001b[K     |▎                               | 20 kB 26.1 MB/s eta 0:00:01\r\u001b[K     |▍                               | 30 kB 28.6 MB/s eta 0:00:01\r\u001b[K     |▌                               | 40 kB 29.6 MB/s eta 0:00:01\r\u001b[K     |▊                               | 51 kB 32.5 MB/s eta 0:00:01\r\u001b[K     |▉                               | 61 kB 34.9 MB/s eta 0:00:01\r\u001b[K     |█                               | 71 kB 35.3 MB/s eta 0:00:01\r\u001b[K     |█                               | 81 kB 36.3 MB/s eta 0:00:01\r\u001b[K     |█▎                              | 92 kB 37.5 MB/s eta 0:00:01\r\u001b[K     |█▍                              | 102 kB 34.0 MB/s eta 0:00:01\r\u001b[K     |█▌                              | 112 kB 34.0 MB/s eta 0:00:01\r\u001b[K     |█▋                              | 122 kB 34.0 MB/s eta 0:00:01\r\u001b[K     |█▊                              | 133 kB 34.0 MB/s eta 0:00:01\r\u001b[K     |██                              | 143 kB 34.0 MB/s eta 0:00:01\r\u001b[K     |██                              | 153 kB 34.0 MB/s eta 0:00:01\r\u001b[K     |██▏                             | 163 kB 34.0 MB/s eta 0:00:01\r\u001b[K     |██▎                             | 174 kB 34.0 MB/s eta 0:00:01\r\u001b[K     |██▌                             | 184 kB 34.0 MB/s eta 0:00:01\r\u001b[K     |██▋                             | 194 kB 34.0 MB/s eta 0:00:01\r\u001b[K     |██▊                             | 204 kB 34.0 MB/s eta 0:00:01\r\u001b[K     |██▉                             | 215 kB 34.0 MB/s eta 0:00:01\r\u001b[K     |███                             | 225 kB 34.0 MB/s eta 0:00:01\r\u001b[K     |███▏                            | 235 kB 34.0 MB/s eta 0:00:01\r\u001b[K     |███▎                            | 245 kB 34.0 MB/s eta 0:00:01\r\u001b[K     |███▍                            | 256 kB 34.0 MB/s eta 0:00:01\r\u001b[K     |███▌                            | 266 kB 34.0 MB/s eta 0:00:01\r\u001b[K     |███▊                            | 276 kB 34.0 MB/s eta 0:00:01\r\u001b[K     |███▉                            | 286 kB 34.0 MB/s eta 0:00:01\r\u001b[K     |████                            | 296 kB 34.0 MB/s eta 0:00:01\r\u001b[K     |████                            | 307 kB 34.0 MB/s eta 0:00:01\r\u001b[K     |████▎                           | 317 kB 34.0 MB/s eta 0:00:01\r\u001b[K     |████▍                           | 327 kB 34.0 MB/s eta 0:00:01\r\u001b[K     |████▌                           | 337 kB 34.0 MB/s eta 0:00:01\r\u001b[K     |████▋                           | 348 kB 34.0 MB/s eta 0:00:01\r\u001b[K     |████▊                           | 358 kB 34.0 MB/s eta 0:00:01\r\u001b[K     |█████                           | 368 kB 34.0 MB/s eta 0:00:01\r\u001b[K     |█████                           | 378 kB 34.0 MB/s eta 0:00:01\r\u001b[K     |█████▏                          | 389 kB 34.0 MB/s eta 0:00:01\r\u001b[K     |█████▎                          | 399 kB 34.0 MB/s eta 0:00:01\r\u001b[K     |█████▌                          | 409 kB 34.0 MB/s eta 0:00:01\r\u001b[K     |█████▋                          | 419 kB 34.0 MB/s eta 0:00:01\r\u001b[K     |█████▊                          | 430 kB 34.0 MB/s eta 0:00:01\r\u001b[K     |█████▉                          | 440 kB 34.0 MB/s eta 0:00:01\r\u001b[K     |██████                          | 450 kB 34.0 MB/s eta 0:00:01\r\u001b[K     |██████▏                         | 460 kB 34.0 MB/s eta 0:00:01\r\u001b[K     |██████▎                         | 471 kB 34.0 MB/s eta 0:00:01\r\u001b[K     |██████▍                         | 481 kB 34.0 MB/s eta 0:00:01\r\u001b[K     |██████▌                         | 491 kB 34.0 MB/s eta 0:00:01\r\u001b[K     |██████▊                         | 501 kB 34.0 MB/s eta 0:00:01\r\u001b[K     |██████▉                         | 512 kB 34.0 MB/s eta 0:00:01\r\u001b[K     |███████                         | 522 kB 34.0 MB/s eta 0:00:01\r\u001b[K     |███████                         | 532 kB 34.0 MB/s eta 0:00:01\r\u001b[K     |███████▎                        | 542 kB 34.0 MB/s eta 0:00:01\r\u001b[K     |███████▍                        | 552 kB 34.0 MB/s eta 0:00:01\r\u001b[K     |███████▌                        | 563 kB 34.0 MB/s eta 0:00:01\r\u001b[K     |███████▋                        | 573 kB 34.0 MB/s eta 0:00:01\r\u001b[K     |███████▊                        | 583 kB 34.0 MB/s eta 0:00:01\r\u001b[K     |████████                        | 593 kB 34.0 MB/s eta 0:00:01\r\u001b[K     |████████                        | 604 kB 34.0 MB/s eta 0:00:01\r\u001b[K     |████████▏                       | 614 kB 34.0 MB/s eta 0:00:01\r\u001b[K     |████████▎                       | 624 kB 34.0 MB/s eta 0:00:01\r\u001b[K     |████████▌                       | 634 kB 34.0 MB/s eta 0:00:01\r\u001b[K     |████████▋                       | 645 kB 34.0 MB/s eta 0:00:01\r\u001b[K     |████████▊                       | 655 kB 34.0 MB/s eta 0:00:01\r\u001b[K     |████████▉                       | 665 kB 34.0 MB/s eta 0:00:01\r\u001b[K     |█████████                       | 675 kB 34.0 MB/s eta 0:00:01\r\u001b[K     |█████████▏                      | 686 kB 34.0 MB/s eta 0:00:01\r\u001b[K     |█████████▎                      | 696 kB 34.0 MB/s eta 0:00:01\r\u001b[K     |█████████▍                      | 706 kB 34.0 MB/s eta 0:00:01\r\u001b[K     |█████████▌                      | 716 kB 34.0 MB/s eta 0:00:01\r\u001b[K     |█████████▊                      | 727 kB 34.0 MB/s eta 0:00:01\r\u001b[K     |█████████▉                      | 737 kB 34.0 MB/s eta 0:00:01\r\u001b[K     |██████████                      | 747 kB 34.0 MB/s eta 0:00:01\r\u001b[K     |██████████                      | 757 kB 34.0 MB/s eta 0:00:01\r\u001b[K     |██████████▎                     | 768 kB 34.0 MB/s eta 0:00:01\r\u001b[K     |██████████▍                     | 778 kB 34.0 MB/s eta 0:00:01\r\u001b[K     |██████████▌                     | 788 kB 34.0 MB/s eta 0:00:01\r\u001b[K     |██████████▋                     | 798 kB 34.0 MB/s eta 0:00:01\r\u001b[K     |██████████▊                     | 808 kB 34.0 MB/s eta 0:00:01\r\u001b[K     |███████████                     | 819 kB 34.0 MB/s eta 0:00:01\r\u001b[K     |███████████                     | 829 kB 34.0 MB/s eta 0:00:01\r\u001b[K     |███████████▏                    | 839 kB 34.0 MB/s eta 0:00:01\r\u001b[K     |███████████▎                    | 849 kB 34.0 MB/s eta 0:00:01\r\u001b[K     |███████████▌                    | 860 kB 34.0 MB/s eta 0:00:01\r\u001b[K     |███████████▋                    | 870 kB 34.0 MB/s eta 0:00:01\r\u001b[K     |███████████▊                    | 880 kB 34.0 MB/s eta 0:00:01\r\u001b[K     |███████████▉                    | 890 kB 34.0 MB/s eta 0:00:01\r\u001b[K     |████████████                    | 901 kB 34.0 MB/s eta 0:00:01\r\u001b[K     |████████████▏                   | 911 kB 34.0 MB/s eta 0:00:01\r\u001b[K     |████████████▎                   | 921 kB 34.0 MB/s eta 0:00:01\r\u001b[K     |████████████▍                   | 931 kB 34.0 MB/s eta 0:00:01\r\u001b[K     |████████████▌                   | 942 kB 34.0 MB/s eta 0:00:01\r\u001b[K     |████████████▊                   | 952 kB 34.0 MB/s eta 0:00:01\r\u001b[K     |████████████▉                   | 962 kB 34.0 MB/s eta 0:00:01\r\u001b[K     |█████████████                   | 972 kB 34.0 MB/s eta 0:00:01\r\u001b[K     |█████████████                   | 983 kB 34.0 MB/s eta 0:00:01\r\u001b[K     |█████████████▎                  | 993 kB 34.0 MB/s eta 0:00:01\r\u001b[K     |█████████████▍                  | 1.0 MB 34.0 MB/s eta 0:00:01\r\u001b[K     |█████████████▌                  | 1.0 MB 34.0 MB/s eta 0:00:01\r\u001b[K     |█████████████▋                  | 1.0 MB 34.0 MB/s eta 0:00:01\r\u001b[K     |█████████████▊                  | 1.0 MB 34.0 MB/s eta 0:00:01\r\u001b[K     |██████████████                  | 1.0 MB 34.0 MB/s eta 0:00:01\r\u001b[K     |██████████████                  | 1.1 MB 34.0 MB/s eta 0:00:01\r\u001b[K     |██████████████▏                 | 1.1 MB 34.0 MB/s eta 0:00:01\r\u001b[K     |██████████████▎                 | 1.1 MB 34.0 MB/s eta 0:00:01\r\u001b[K     |██████████████▌                 | 1.1 MB 34.0 MB/s eta 0:00:01\r\u001b[K     |██████████████▋                 | 1.1 MB 34.0 MB/s eta 0:00:01\r\u001b[K     |██████████████▊                 | 1.1 MB 34.0 MB/s eta 0:00:01\r\u001b[K     |██████████████▉                 | 1.1 MB 34.0 MB/s eta 0:00:01\r\u001b[K     |███████████████                 | 1.1 MB 34.0 MB/s eta 0:00:01\r\u001b[K     |███████████████▏                | 1.1 MB 34.0 MB/s eta 0:00:01\r\u001b[K     |███████████████▎                | 1.1 MB 34.0 MB/s eta 0:00:01\r\u001b[K     |███████████████▍                | 1.2 MB 34.0 MB/s eta 0:00:01\r\u001b[K     |███████████████▌                | 1.2 MB 34.0 MB/s eta 0:00:01\r\u001b[K     |███████████████▊                | 1.2 MB 34.0 MB/s eta 0:00:01\r\u001b[K     |███████████████▉                | 1.2 MB 34.0 MB/s eta 0:00:01\r\u001b[K     |████████████████                | 1.2 MB 34.0 MB/s eta 0:00:01\r\u001b[K     |████████████████                | 1.2 MB 34.0 MB/s eta 0:00:01\r\u001b[K     |████████████████▏               | 1.2 MB 34.0 MB/s eta 0:00:01\r\u001b[K     |████████████████▍               | 1.2 MB 34.0 MB/s eta 0:00:01\r\u001b[K     |████████████████▌               | 1.2 MB 34.0 MB/s eta 0:00:01\r\u001b[K     |████████████████▋               | 1.2 MB 34.0 MB/s eta 0:00:01\r\u001b[K     |████████████████▊               | 1.3 MB 34.0 MB/s eta 0:00:01\r\u001b[K     |█████████████████               | 1.3 MB 34.0 MB/s eta 0:00:01\r\u001b[K     |█████████████████               | 1.3 MB 34.0 MB/s eta 0:00:01\r\u001b[K     |█████████████████▏              | 1.3 MB 34.0 MB/s eta 0:00:01\r\u001b[K     |█████████████████▎              | 1.3 MB 34.0 MB/s eta 0:00:01\r\u001b[K     |█████████████████▌              | 1.3 MB 34.0 MB/s eta 0:00:01\r\u001b[K     |█████████████████▋              | 1.3 MB 34.0 MB/s eta 0:00:01\r\u001b[K     |█████████████████▊              | 1.3 MB 34.0 MB/s eta 0:00:01\r\u001b[K     |█████████████████▉              | 1.3 MB 34.0 MB/s eta 0:00:01\r\u001b[K     |██████████████████              | 1.4 MB 34.0 MB/s eta 0:00:01\r\u001b[K     |██████████████████▏             | 1.4 MB 34.0 MB/s eta 0:00:01\r\u001b[K     |██████████████████▎             | 1.4 MB 34.0 MB/s eta 0:00:01\r\u001b[K     |██████████████████▍             | 1.4 MB 34.0 MB/s eta 0:00:01\r\u001b[K     |██████████████████▌             | 1.4 MB 34.0 MB/s eta 0:00:01\r\u001b[K     |██████████████████▊             | 1.4 MB 34.0 MB/s eta 0:00:01\r\u001b[K     |██████████████████▉             | 1.4 MB 34.0 MB/s eta 0:00:01\r\u001b[K     |███████████████████             | 1.4 MB 34.0 MB/s eta 0:00:01\r\u001b[K     |███████████████████             | 1.4 MB 34.0 MB/s eta 0:00:01\r\u001b[K     |███████████████████▏            | 1.4 MB 34.0 MB/s eta 0:00:01\r\u001b[K     |███████████████████▍            | 1.5 MB 34.0 MB/s eta 0:00:01\r\u001b[K     |███████████████████▌            | 1.5 MB 34.0 MB/s eta 0:00:01\r\u001b[K     |███████████████████▋            | 1.5 MB 34.0 MB/s eta 0:00:01\r\u001b[K     |███████████████████▊            | 1.5 MB 34.0 MB/s eta 0:00:01\r\u001b[K     |████████████████████            | 1.5 MB 34.0 MB/s eta 0:00:01\r\u001b[K     |████████████████████            | 1.5 MB 34.0 MB/s eta 0:00:01\r\u001b[K     |████████████████████▏           | 1.5 MB 34.0 MB/s eta 0:00:01\r\u001b[K     |████████████████████▎           | 1.5 MB 34.0 MB/s eta 0:00:01\r\u001b[K     |████████████████████▌           | 1.5 MB 34.0 MB/s eta 0:00:01\r\u001b[K     |████████████████████▋           | 1.5 MB 34.0 MB/s eta 0:00:01\r\u001b[K     |████████████████████▊           | 1.6 MB 34.0 MB/s eta 0:00:01\r\u001b[K     |████████████████████▉           | 1.6 MB 34.0 MB/s eta 0:00:01\r\u001b[K     |█████████████████████           | 1.6 MB 34.0 MB/s eta 0:00:01\r\u001b[K     |█████████████████████▏          | 1.6 MB 34.0 MB/s eta 0:00:01\r\u001b[K     |█████████████████████▎          | 1.6 MB 34.0 MB/s eta 0:00:01\r\u001b[K     |█████████████████████▍          | 1.6 MB 34.0 MB/s eta 0:00:01\r\u001b[K     |█████████████████████▌          | 1.6 MB 34.0 MB/s eta 0:00:01\r\u001b[K     |█████████████████████▊          | 1.6 MB 34.0 MB/s eta 0:00:01\r\u001b[K     |█████████████████████▉          | 1.6 MB 34.0 MB/s eta 0:00:01\r\u001b[K     |██████████████████████          | 1.6 MB 34.0 MB/s eta 0:00:01\r\u001b[K     |██████████████████████          | 1.7 MB 34.0 MB/s eta 0:00:01\r\u001b[K     |██████████████████████▏         | 1.7 MB 34.0 MB/s eta 0:00:01\r\u001b[K     |██████████████████████▍         | 1.7 MB 34.0 MB/s eta 0:00:01\r\u001b[K     |██████████████████████▌         | 1.7 MB 34.0 MB/s eta 0:00:01\r\u001b[K     |██████████████████████▋         | 1.7 MB 34.0 MB/s eta 0:00:01\r\u001b[K     |██████████████████████▊         | 1.7 MB 34.0 MB/s eta 0:00:01\r\u001b[K     |███████████████████████         | 1.7 MB 34.0 MB/s eta 0:00:01\r\u001b[K     |███████████████████████         | 1.7 MB 34.0 MB/s eta 0:00:01\r\u001b[K     |███████████████████████▏        | 1.7 MB 34.0 MB/s eta 0:00:01\r\u001b[K     |███████████████████████▎        | 1.8 MB 34.0 MB/s eta 0:00:01\r\u001b[K     |███████████████████████▌        | 1.8 MB 34.0 MB/s eta 0:00:01\r\u001b[K     |███████████████████████▋        | 1.8 MB 34.0 MB/s eta 0:00:01\r\u001b[K     |███████████████████████▊        | 1.8 MB 34.0 MB/s eta 0:00:01\r\u001b[K     |███████████████████████▉        | 1.8 MB 34.0 MB/s eta 0:00:01\r\u001b[K     |████████████████████████        | 1.8 MB 34.0 MB/s eta 0:00:01\r\u001b[K     |████████████████████████▏       | 1.8 MB 34.0 MB/s eta 0:00:01\r\u001b[K     |████████████████████████▎       | 1.8 MB 34.0 MB/s eta 0:00:01\r\u001b[K     |████████████████████████▍       | 1.8 MB 34.0 MB/s eta 0:00:01\r\u001b[K     |████████████████████████▌       | 1.8 MB 34.0 MB/s eta 0:00:01\r\u001b[K     |████████████████████████▊       | 1.9 MB 34.0 MB/s eta 0:00:01\r\u001b[K     |████████████████████████▉       | 1.9 MB 34.0 MB/s eta 0:00:01\r\u001b[K     |█████████████████████████       | 1.9 MB 34.0 MB/s eta 0:00:01\r\u001b[K     |█████████████████████████       | 1.9 MB 34.0 MB/s eta 0:00:01\r\u001b[K     |█████████████████████████▏      | 1.9 MB 34.0 MB/s eta 0:00:01\r\u001b[K     |█████████████████████████▍      | 1.9 MB 34.0 MB/s eta 0:00:01\r\u001b[K     |█████████████████████████▌      | 1.9 MB 34.0 MB/s eta 0:00:01\r\u001b[K     |█████████████████████████▋      | 1.9 MB 34.0 MB/s eta 0:00:01\r\u001b[K     |█████████████████████████▊      | 1.9 MB 34.0 MB/s eta 0:00:01\r\u001b[K     |██████████████████████████      | 1.9 MB 34.0 MB/s eta 0:00:01\r\u001b[K     |██████████████████████████      | 2.0 MB 34.0 MB/s eta 0:00:01\r\u001b[K     |██████████████████████████▏     | 2.0 MB 34.0 MB/s eta 0:00:01\r\u001b[K     |██████████████████████████▎     | 2.0 MB 34.0 MB/s eta 0:00:01\r\u001b[K     |██████████████████████████▌     | 2.0 MB 34.0 MB/s eta 0:00:01\r\u001b[K     |██████████████████████████▋     | 2.0 MB 34.0 MB/s eta 0:00:01\r\u001b[K     |██████████████████████████▊     | 2.0 MB 34.0 MB/s eta 0:00:01\r\u001b[K     |██████████████████████████▉     | 2.0 MB 34.0 MB/s eta 0:00:01\r\u001b[K     |███████████████████████████     | 2.0 MB 34.0 MB/s eta 0:00:01\r\u001b[K     |███████████████████████████▏    | 2.0 MB 34.0 MB/s eta 0:00:01\r\u001b[K     |███████████████████████████▎    | 2.0 MB 34.0 MB/s eta 0:00:01\r\u001b[K     |███████████████████████████▍    | 2.1 MB 34.0 MB/s eta 0:00:01\r\u001b[K     |███████████████████████████▌    | 2.1 MB 34.0 MB/s eta 0:00:01\r\u001b[K     |███████████████████████████▊    | 2.1 MB 34.0 MB/s eta 0:00:01\r\u001b[K     |███████████████████████████▉    | 2.1 MB 34.0 MB/s eta 0:00:01\r\u001b[K     |████████████████████████████    | 2.1 MB 34.0 MB/s eta 0:00:01\r\u001b[K     |████████████████████████████    | 2.1 MB 34.0 MB/s eta 0:00:01\r\u001b[K     |████████████████████████████▏   | 2.1 MB 34.0 MB/s eta 0:00:01\r\u001b[K     |████████████████████████████▍   | 2.1 MB 34.0 MB/s eta 0:00:01\r\u001b[K     |████████████████████████████▌   | 2.1 MB 34.0 MB/s eta 0:00:01\r\u001b[K     |████████████████████████████▋   | 2.2 MB 34.0 MB/s eta 0:00:01\r\u001b[K     |████████████████████████████▊   | 2.2 MB 34.0 MB/s eta 0:00:01\r\u001b[K     |█████████████████████████████   | 2.2 MB 34.0 MB/s eta 0:00:01\r\u001b[K     |█████████████████████████████   | 2.2 MB 34.0 MB/s eta 0:00:01\r\u001b[K     |█████████████████████████████▏  | 2.2 MB 34.0 MB/s eta 0:00:01\r\u001b[K     |█████████████████████████████▎  | 2.2 MB 34.0 MB/s eta 0:00:01\r\u001b[K     |█████████████████████████████▌  | 2.2 MB 34.0 MB/s eta 0:00:01\r\u001b[K     |█████████████████████████████▋  | 2.2 MB 34.0 MB/s eta 0:00:01\r\u001b[K     |█████████████████████████████▊  | 2.2 MB 34.0 MB/s eta 0:00:01\r\u001b[K     |█████████████████████████████▉  | 2.2 MB 34.0 MB/s eta 0:00:01\r\u001b[K     |██████████████████████████████  | 2.3 MB 34.0 MB/s eta 0:00:01\r\u001b[K     |██████████████████████████████▏ | 2.3 MB 34.0 MB/s eta 0:00:01\r\u001b[K     |██████████████████████████████▎ | 2.3 MB 34.0 MB/s eta 0:00:01\r\u001b[K     |██████████████████████████████▍ | 2.3 MB 34.0 MB/s eta 0:00:01\r\u001b[K     |██████████████████████████████▌ | 2.3 MB 34.0 MB/s eta 0:00:01\r\u001b[K     |██████████████████████████████▊ | 2.3 MB 34.0 MB/s eta 0:00:01\r\u001b[K     |██████████████████████████████▉ | 2.3 MB 34.0 MB/s eta 0:00:01\r\u001b[K     |███████████████████████████████ | 2.3 MB 34.0 MB/s eta 0:00:01\r\u001b[K     |███████████████████████████████ | 2.3 MB 34.0 MB/s eta 0:00:01\r\u001b[K     |███████████████████████████████▏| 2.3 MB 34.0 MB/s eta 0:00:01\r\u001b[K     |███████████████████████████████▍| 2.4 MB 34.0 MB/s eta 0:00:01\r\u001b[K     |███████████████████████████████▌| 2.4 MB 34.0 MB/s eta 0:00:01\r\u001b[K     |███████████████████████████████▋| 2.4 MB 34.0 MB/s eta 0:00:01\r\u001b[K     |███████████████████████████████▊| 2.4 MB 34.0 MB/s eta 0:00:01\r\u001b[K     |████████████████████████████████| 2.4 MB 34.0 MB/s eta 0:00:01\r\u001b[K     |████████████████████████████████| 2.4 MB 34.0 MB/s \n",
            "\u001b[?25hRequirement already satisfied: appdirs~=1.4 in /usr/local/lib/python3.7/dist-packages (from cobra) (1.4.4)\n",
            "Collecting depinfo\n",
            "  Downloading depinfo-1.7.0-py2.py3-none-any.whl (8.6 kB)\n",
            "Collecting ruamel.yaml~=0.16\n",
            "  Downloading ruamel.yaml-0.17.17-py3-none-any.whl (109 kB)\n",
            "\u001b[K     |████████████████████████████████| 109 kB 61.8 MB/s \n",
            "\u001b[?25hRequirement already satisfied: importlib-resources in /usr/local/lib/python3.7/dist-packages (from cobra) (5.4.0)\n",
            "Collecting python-libsbml==5.19.0\n",
            "  Downloading python_libsbml-5.19.0-cp37-cp37m-manylinux1_x86_64.whl (6.2 MB)\n",
            "\u001b[K     |████████████████████████████████| 6.2 MB 43.5 MB/s \n",
            "\u001b[?25hCollecting pydantic~=1.6\n",
            "  Downloading pydantic-1.8.2-cp37-cp37m-manylinux2014_x86_64.whl (10.1 MB)\n",
            "\u001b[K     |████████████████████████████████| 10.1 MB 38.6 MB/s \n",
            "\u001b[?25hRequirement already satisfied: pandas~=1.0 in /usr/local/lib/python3.7/dist-packages (from cobra) (1.1.5)\n",
            "Requirement already satisfied: future in /usr/local/lib/python3.7/dist-packages (from cobra) (0.16.0)\n",
            "Collecting httpx~=0.14\n",
            "  Downloading httpx-0.21.1-py3-none-any.whl (83 kB)\n",
            "\u001b[K     |████████████████████████████████| 83 kB 1.6 MB/s \n",
            "\u001b[?25hCollecting rich>=8.0\n",
            "  Downloading rich-10.15.1-py3-none-any.whl (214 kB)\n",
            "\u001b[K     |████████████████████████████████| 214 kB 23.6 MB/s \n",
            "\u001b[?25hCollecting optlang~=1.5\n",
            "  Downloading optlang-1.5.2-py2.py3-none-any.whl (147 kB)\n",
            "\u001b[K     |████████████████████████████████| 147 kB 65.7 MB/s \n",
            "\u001b[?25hCollecting swiglpk\n",
            "  Downloading swiglpk-5.0.3-cp37-cp37m-manylinux2010_x86_64.whl (2.1 MB)\n",
            "\u001b[K     |████████████████████████████████| 2.1 MB 53.8 MB/s \n",
            "\u001b[?25hRequirement already satisfied: numpy~=1.13 in /usr/local/lib/python3.7/dist-packages (from cobra) (1.19.5)\n",
            "Collecting diskcache~=5.0\n",
            "  Downloading diskcache-5.3.0-py3-none-any.whl (44 kB)\n",
            "\u001b[K     |████████████████████████████████| 44 kB 3.0 MB/s \n",
            "\u001b[?25hRequirement already satisfied: charset-normalizer in /usr/local/lib/python3.7/dist-packages (from httpx~=0.14->cobra) (2.0.8)\n",
            "Collecting rfc3986[idna2008]<2,>=1.3\n",
            "  Downloading rfc3986-1.5.0-py2.py3-none-any.whl (31 kB)\n",
            "Requirement already satisfied: certifi in /usr/local/lib/python3.7/dist-packages (from httpx~=0.14->cobra) (2021.10.8)\n",
            "Collecting httpcore<0.15.0,>=0.14.0\n",
            "  Downloading httpcore-0.14.3-py3-none-any.whl (56 kB)\n",
            "\u001b[K     |████████████████████████████████| 56 kB 4.3 MB/s \n",
            "\u001b[?25hCollecting sniffio\n",
            "  Downloading sniffio-1.2.0-py3-none-any.whl (10 kB)\n",
            "Collecting h11<0.13,>=0.11\n",
            "  Downloading h11-0.12.0-py3-none-any.whl (54 kB)\n",
            "\u001b[K     |████████████████████████████████| 54 kB 3.2 MB/s \n",
            "\u001b[?25hCollecting anyio==3.*\n",
            "  Downloading anyio-3.4.0-py3-none-any.whl (78 kB)\n",
            "\u001b[K     |████████████████████████████████| 78 kB 7.1 MB/s \n",
            "\u001b[?25hRequirement already satisfied: idna>=2.8 in /usr/local/lib/python3.7/dist-packages (from anyio==3.*->httpcore<0.15.0,>=0.14.0->httpx~=0.14->cobra) (2.10)\n",
            "Requirement already satisfied: typing-extensions in /usr/local/lib/python3.7/dist-packages (from anyio==3.*->httpcore<0.15.0,>=0.14.0->httpx~=0.14->cobra) (3.10.0.2)\n",
            "Requirement already satisfied: sympy>=1.0 in /usr/local/lib/python3.7/dist-packages (from optlang~=1.5->cobra) (1.7.1)\n",
            "Requirement already satisfied: six>=1.9 in /usr/local/lib/python3.7/dist-packages (from optlang~=1.5->cobra) (1.15.0)\n",
            "Requirement already satisfied: pytz>=2017.2 in /usr/local/lib/python3.7/dist-packages (from pandas~=1.0->cobra) (2018.9)\n",
            "Requirement already satisfied: python-dateutil>=2.7.3 in /usr/local/lib/python3.7/dist-packages (from pandas~=1.0->cobra) (2.8.2)\n",
            "Collecting commonmark<0.10.0,>=0.9.0\n",
            "  Downloading commonmark-0.9.1-py2.py3-none-any.whl (51 kB)\n",
            "\u001b[K     |████████████████████████████████| 51 kB 7.4 MB/s \n",
            "\u001b[?25hCollecting colorama<0.5.0,>=0.4.0\n",
            "  Downloading colorama-0.4.4-py2.py3-none-any.whl (16 kB)\n",
            "Requirement already satisfied: pygments<3.0.0,>=2.6.0 in /usr/local/lib/python3.7/dist-packages (from rich>=8.0->cobra) (2.6.1)\n",
            "Collecting ruamel.yaml.clib>=0.1.2\n",
            "  Downloading ruamel.yaml.clib-0.2.6-cp37-cp37m-manylinux1_x86_64.whl (546 kB)\n",
            "\u001b[K     |████████████████████████████████| 546 kB 55.2 MB/s \n",
            "\u001b[?25hRequirement already satisfied: mpmath>=0.19 in /usr/local/lib/python3.7/dist-packages (from sympy>=1.0->optlang~=1.5->cobra) (1.2.1)\n",
            "Requirement already satisfied: importlib-metadata in /usr/local/lib/python3.7/dist-packages (from depinfo->cobra) (4.8.2)\n",
            "Requirement already satisfied: zipp>=0.5 in /usr/local/lib/python3.7/dist-packages (from importlib-metadata->depinfo->cobra) (3.6.0)\n",
            "Installing collected packages: sniffio, rfc3986, h11, anyio, swiglpk, ruamel.yaml.clib, httpcore, commonmark, colorama, ruamel.yaml, rich, python-libsbml, pydantic, optlang, httpx, diskcache, depinfo, cobra\n",
            "Successfully installed anyio-3.4.0 cobra-0.22.1 colorama-0.4.4 commonmark-0.9.1 depinfo-1.7.0 diskcache-5.3.0 h11-0.12.0 httpcore-0.14.3 httpx-0.21.1 optlang-1.5.2 pydantic-1.8.2 python-libsbml-5.19.0 rfc3986-1.5.0 rich-10.15.1 ruamel.yaml-0.17.17 ruamel.yaml.clib-0.2.6 sniffio-1.2.0 swiglpk-5.0.3\n"
          ]
        }
      ]
    },
    {
      "cell_type": "code",
      "metadata": {
        "id": "5DjmNp5bHapY"
      },
      "source": [
        "from cobra.io import read_sbml_model\n",
        "model = read_sbml_model('iYO844.xml')"
      ],
      "execution_count": 3,
      "outputs": []
    },
    {
      "cell_type": "code",
      "metadata": {
        "colab": {
          "base_uri": "https://localhost:8080/"
        },
        "id": "ShPX1_JqmRFR",
        "outputId": "e2e7b6f8-c250-4e48-fb43-dd3e4c59b667"
      },
      "source": [
        "max_growth=model.optimize().objective_value\n",
        "model.objective=model.reactions.EX_ribflv_e\n",
        "model.reactions.BIOMASS_BS_10.lower_bound=0.2*max_growth\n",
        "solution_ribflv=model.optimize()\n",
        "print(solution_ribflv.objective_value,solution_ribflv.fluxes.BIOMASS_BS_10)"
      ],
      "execution_count": 4,
      "outputs": [
        {
          "output_type": "stream",
          "name": "stdout",
          "text": [
            "0.3030802735713299 0.02359327786447964\n"
          ]
        }
      ]
    },
    {
      "cell_type": "code",
      "metadata": {
        "colab": {
          "base_uri": "https://localhost:8080/"
        },
        "id": "AOQBtTWKHzxF",
        "outputId": "264bbc40-ae38-4c44-ef21-b1ba5e370188"
      },
      "source": [
        "model.reactions.PTAr.genes"
      ],
      "execution_count": 5,
      "outputs": [
        {
          "output_type": "execute_result",
          "data": {
            "text/plain": [
              "frozenset({<Gene BSU37660 at 0x7f12ea0b3390>})"
            ]
          },
          "metadata": {},
          "execution_count": 5
        }
      ]
    },
    {
      "cell_type": "code",
      "metadata": {
        "colab": {
          "base_uri": "https://localhost:8080/",
          "height": 204
        },
        "id": "K22jnJ7XKLUz",
        "outputId": "faaa056c-5ef8-47c7-d178-428dbff3e4a4"
      },
      "source": [
        "model.reactions.PTAr"
      ],
      "execution_count": 6,
      "outputs": [
        {
          "output_type": "execute_result",
          "data": {
            "text/html": [
              "\n",
              "        <table>\n",
              "            <tr>\n",
              "                <td><strong>Reaction identifier</strong></td><td>PTAr</td>\n",
              "            </tr><tr>\n",
              "                <td><strong>Name</strong></td><td>Phosphotransacetylase</td>\n",
              "            </tr><tr>\n",
              "                <td><strong>Memory address</strong></td>\n",
              "                <td>0x07f12e98a2890</td>\n",
              "            </tr><tr>\n",
              "                <td><strong>Stoichiometry</strong></td>\n",
              "                <td>\n",
              "                    <p style='text-align:right'>accoa_c + pi_c <=> actp_c + coa_c</p>\n",
              "                    <p style='text-align:right'>Acetyl-CoA + Phosphate <=> Acetyl phosphate + Coenzyme A</p>\n",
              "                </td>\n",
              "            </tr><tr>\n",
              "                <td><strong>GPR</strong></td><td>BSU37660</td>\n",
              "            </tr><tr>\n",
              "                <td><strong>Lower bound</strong></td><td>-999999.0</td>\n",
              "            </tr><tr>\n",
              "                <td><strong>Upper bound</strong></td><td>999999.0</td>\n",
              "            </tr>\n",
              "        </table>\n",
              "        "
            ],
            "text/plain": [
              "<Reaction PTAr at 0x7f12e98a2890>"
            ]
          },
          "metadata": {},
          "execution_count": 6
        }
      ]
    },
    {
      "cell_type": "code",
      "metadata": {
        "colab": {
          "base_uri": "https://localhost:8080/",
          "height": 204
        },
        "id": "yn5KrnQinrSi",
        "outputId": "0b542ff7-bc19-430b-e1f5-255960cefa63"
      },
      "source": [
        "model.reactions.ACLS"
      ],
      "execution_count": 9,
      "outputs": [
        {
          "output_type": "execute_result",
          "data": {
            "text/html": [
              "\n",
              "        <table>\n",
              "            <tr>\n",
              "                <td><strong>Reaction identifier</strong></td><td>ACLS</td>\n",
              "            </tr><tr>\n",
              "                <td><strong>Name</strong></td><td>Acetolactate synthase</td>\n",
              "            </tr><tr>\n",
              "                <td><strong>Memory address</strong></td>\n",
              "                <td>0x07f12e9693e10</td>\n",
              "            </tr><tr>\n",
              "                <td><strong>Stoichiometry</strong></td>\n",
              "                <td>\n",
              "                    <p style='text-align:right'>h_c + 2.0 pyr_c --> alac__S_c + co2_c</p>\n",
              "                    <p style='text-align:right'>H+ + 2.0 Pyruvate --> (S)-2-Acetolactate + CO2 CO2</p>\n",
              "                </td>\n",
              "            </tr><tr>\n",
              "                <td><strong>GPR</strong></td><td>( BSU28310 and BSU28300 ) or BSU36010</td>\n",
              "            </tr><tr>\n",
              "                <td><strong>Lower bound</strong></td><td>0.0</td>\n",
              "            </tr><tr>\n",
              "                <td><strong>Upper bound</strong></td><td>999999.0</td>\n",
              "            </tr>\n",
              "        </table>\n",
              "        "
            ],
            "text/plain": [
              "<Reaction ACLS at 0x7f12e9693e10>"
            ]
          },
          "metadata": {},
          "execution_count": 9
        }
      ]
    },
    {
      "cell_type": "code",
      "metadata": {
        "id": "MHeMcAjKv_kb",
        "outputId": "6e7a973c-ecdb-4007-bb95-6e8c3a290d60",
        "colab": {
          "base_uri": "https://localhost:8080/",
          "height": 204
        }
      },
      "source": [
        "model.reactions.RBFK"
      ],
      "execution_count": 19,
      "outputs": [
        {
          "output_type": "execute_result",
          "data": {
            "text/html": [
              "\n",
              "        <table>\n",
              "            <tr>\n",
              "                <td><strong>Reaction identifier</strong></td><td>RBFK</td>\n",
              "            </tr><tr>\n",
              "                <td><strong>Name</strong></td><td>Riboflavin kinase</td>\n",
              "            </tr><tr>\n",
              "                <td><strong>Memory address</strong></td>\n",
              "                <td>0x07f12e987b9d0</td>\n",
              "            </tr><tr>\n",
              "                <td><strong>Stoichiometry</strong></td>\n",
              "                <td>\n",
              "                    <p style='text-align:right'>atp_c + ribflv_c --> adp_c + fmn_c + h_c</p>\n",
              "                    <p style='text-align:right'>ATP C10H12N5O13P3 + Riboflavin C17H20N4O6 --> ADP C10H12N5O10P2 + FMN C17H19N4O9P + H+</p>\n",
              "                </td>\n",
              "            </tr><tr>\n",
              "                <td><strong>GPR</strong></td><td>BSU29300 or BSU16670</td>\n",
              "            </tr><tr>\n",
              "                <td><strong>Lower bound</strong></td><td>0.0</td>\n",
              "            </tr><tr>\n",
              "                <td><strong>Upper bound</strong></td><td>999999.0</td>\n",
              "            </tr>\n",
              "        </table>\n",
              "        "
            ],
            "text/plain": [
              "<Reaction RBFK at 0x7f12e987b9d0>"
            ]
          },
          "metadata": {},
          "execution_count": 19
        }
      ]
    },
    {
      "cell_type": "code",
      "metadata": {
        "id": "LUyy96YbwJ5n",
        "outputId": "1a9dfcc9-64cf-4e76-bb2d-2ff9682e0269",
        "colab": {
          "base_uri": "https://localhost:8080/",
          "height": 204
        }
      },
      "source": [
        "model.reactions.EDA"
      ],
      "execution_count": 20,
      "outputs": [
        {
          "output_type": "execute_result",
          "data": {
            "text/html": [
              "\n",
              "        <table>\n",
              "            <tr>\n",
              "                <td><strong>Reaction identifier</strong></td><td>EDA</td>\n",
              "            </tr><tr>\n",
              "                <td><strong>Name</strong></td><td>2-dehydro-3-deoxy-phosphogluconate aldolase</td>\n",
              "            </tr><tr>\n",
              "                <td><strong>Memory address</strong></td>\n",
              "                <td>0x07f12e99cd0d0</td>\n",
              "            </tr><tr>\n",
              "                <td><strong>Stoichiometry</strong></td>\n",
              "                <td>\n",
              "                    <p style='text-align:right'>2ddg6p_c --> g3p_c + pyr_c</p>\n",
              "                    <p style='text-align:right'>2-Dehydro-3-deoxy-D-gluconate 6-phosphate --> Glyceraldehyde 3-phosphate + Pyruvate</p>\n",
              "                </td>\n",
              "            </tr><tr>\n",
              "                <td><strong>GPR</strong></td><td>BSU22100</td>\n",
              "            </tr><tr>\n",
              "                <td><strong>Lower bound</strong></td><td>0.0</td>\n",
              "            </tr><tr>\n",
              "                <td><strong>Upper bound</strong></td><td>999999.0</td>\n",
              "            </tr>\n",
              "        </table>\n",
              "        "
            ],
            "text/plain": [
              "<Reaction EDA at 0x7f12e99cd0d0>"
            ]
          },
          "metadata": {},
          "execution_count": 20
        }
      ]
    },
    {
      "cell_type": "code",
      "metadata": {
        "id": "M8pBUltmylMV",
        "outputId": "ac07bc71-2468-4f1a-a9be-5c33dc576679",
        "colab": {
          "base_uri": "https://localhost:8080/",
          "height": 204
        }
      },
      "source": [
        "model.reactions.PGI"
      ],
      "execution_count": 21,
      "outputs": [
        {
          "output_type": "execute_result",
          "data": {
            "text/html": [
              "\n",
              "        <table>\n",
              "            <tr>\n",
              "                <td><strong>Reaction identifier</strong></td><td>PGI</td>\n",
              "            </tr><tr>\n",
              "                <td><strong>Name</strong></td><td>Glucose-6-phosphate isomerase</td>\n",
              "            </tr><tr>\n",
              "                <td><strong>Memory address</strong></td>\n",
              "                <td>0x07f12e987f890</td>\n",
              "            </tr><tr>\n",
              "                <td><strong>Stoichiometry</strong></td>\n",
              "                <td>\n",
              "                    <p style='text-align:right'>g6p_c <=> f6p_c</p>\n",
              "                    <p style='text-align:right'>D-Glucose 6-phosphate <=> D-Fructose 6-phosphate</p>\n",
              "                </td>\n",
              "            </tr><tr>\n",
              "                <td><strong>GPR</strong></td><td>BSU31350</td>\n",
              "            </tr><tr>\n",
              "                <td><strong>Lower bound</strong></td><td>-999999.0</td>\n",
              "            </tr><tr>\n",
              "                <td><strong>Upper bound</strong></td><td>999999.0</td>\n",
              "            </tr>\n",
              "        </table>\n",
              "        "
            ],
            "text/plain": [
              "<Reaction PGI at 0x7f12e987f890>"
            ]
          },
          "metadata": {},
          "execution_count": 21
        }
      ]
    },
    {
      "cell_type": "code",
      "metadata": {
        "id": "EP7kFiTY1PGt",
        "outputId": "5397984b-0738-44d3-d0c5-8e10feb2a7e6",
        "colab": {
          "base_uri": "https://localhost:8080/",
          "height": 204
        }
      },
      "source": [
        "model.reactions.RPI"
      ],
      "execution_count": 22,
      "outputs": [
        {
          "output_type": "execute_result",
          "data": {
            "text/html": [
              "\n",
              "        <table>\n",
              "            <tr>\n",
              "                <td><strong>Reaction identifier</strong></td><td>RPI</td>\n",
              "            </tr><tr>\n",
              "                <td><strong>Name</strong></td><td>Ribose-5-phosphate isomerase</td>\n",
              "            </tr><tr>\n",
              "                <td><strong>Memory address</strong></td>\n",
              "                <td>0x07f12e9833c10</td>\n",
              "            </tr><tr>\n",
              "                <td><strong>Stoichiometry</strong></td>\n",
              "                <td>\n",
              "                    <p style='text-align:right'>r5p_c <=> ru5p__D_c</p>\n",
              "                    <p style='text-align:right'>Alpha-D-Ribose 5-phosphate <=> D-Ribulose 5-phosphate</p>\n",
              "                </td>\n",
              "            </tr><tr>\n",
              "                <td><strong>GPR</strong></td><td>BSU36920</td>\n",
              "            </tr><tr>\n",
              "                <td><strong>Lower bound</strong></td><td>-999999.0</td>\n",
              "            </tr><tr>\n",
              "                <td><strong>Upper bound</strong></td><td>999999.0</td>\n",
              "            </tr>\n",
              "        </table>\n",
              "        "
            ],
            "text/plain": [
              "<Reaction RPI at 0x7f12e9833c10>"
            ]
          },
          "metadata": {},
          "execution_count": 22
        }
      ]
    },
    {
      "cell_type": "code",
      "metadata": {
        "id": "z2mJSA9OLBzz"
      },
      "source": [
        "from cobra.flux_analysis.phenotype_phase_plane import production_envelope\n",
        "import pandas as pd\n",
        "import matplotlib\n",
        "import matplotlib.pyplot as plt"
      ],
      "execution_count": 25,
      "outputs": []
    },
    {
      "cell_type": "code",
      "metadata": {
        "colab": {
          "base_uri": "https://localhost:8080/"
        },
        "id": "XWtSa-98LPmj",
        "outputId": "2fdbe2ac-459b-474d-dbd7-14bd2a300055"
      },
      "source": [
        "with model:    \n",
        "    print(\"Reference growth conditions\")\n",
        "    print(\"Ensured biomass production rate:\")\n",
        "    print(solution_ribflv.fluxes.BIOMASS_BS_10)\n",
        "    print(\"Maximal riboflavin production rate:\")\n",
        "    print(solution_ribflv.objective_value)\n",
        "    ACLS_ref = solution_ribflv.fluxes.ACLS\n",
        "    print(ACLS_ref)\n",
        "   \n",
        "with model:\n",
        "    model.genes.BSU37660.knock_out()\n",
        "    model.reactions.ACLS.lower_bound = 1.5*ACLS_ref\n",
        "    sol_ribflv_KO = model.optimize()\n",
        "    print(\"\\nWithout Phosphotransacetylase\")\n",
        "    print(\"Maximal riboflavin production rate\")\n",
        "    print(sol_ribflv_KO.objective_value)\n",
        "    print(sol_ribflv_KO.fluxes.ACLS)\n",
        "    # ppp_ribflv_e = production_envelope(model,\n",
        "    #                 reactions=[model.reactions.EX_ribflv_e],\n",
        "    #                 objective=model.reactions.BIOMASS_BS_10)\n",
        "    # pppp = ppp_ribflv_e.plot(x='EX_ribflv_e', y='flux_maximum')\n",
        "    # fig = pppp.get_figure()\n",
        "    # plt.title(label=\"PTAr knockout\")\n",
        "    # #fig.savefig(\"Image/PTAr_knockout_ppp\")"
      ],
      "execution_count": 26,
      "outputs": [
        {
          "output_type": "stream",
          "name": "stdout",
          "text": [
            "Reference growth conditions\n",
            "Ensured biomass production rate:\n",
            "0.02359327786447964\n",
            "Maximal riboflavin production rate:\n",
            "0.3030802735713299\n",
            "0.0174903338994411\n",
            "\n",
            "Without Phosphotransacetylase\n",
            "Maximal riboflavin production rate\n",
            "0.30277818957737096\n",
            "0.026235500849161653\n"
          ]
        }
      ]
    },
    {
      "cell_type": "code",
      "metadata": {
        "colab": {
          "base_uri": "https://localhost:8080/"
        },
        "id": "WzLyl5xmpBaP",
        "outputId": "921f96e5-3210-458f-d15d-3cdfccdb5c80"
      },
      "source": [
        "print(\"Reference growth conditions\")\n",
        "print(\"Ensured biomass production rate:\")\n",
        "print(solution_ribflv.fluxes.BIOMASS_BS_10)\n",
        "print(\"Maximal riboflavin production rate:\")\n",
        "print(solution_ribflv.objective_value)\n",
        "print(solution_ribflv.fluxes.RBFK)\n",
        "\n"
      ],
      "execution_count": 27,
      "outputs": [
        {
          "output_type": "stream",
          "name": "stdout",
          "text": [
            "Reference growth conditions\n",
            "Ensured biomass production rate:\n",
            "0.02359327786447964\n",
            "Maximal riboflavin production rate:\n",
            "0.3030802735713299\n",
            "0.0\n"
          ]
        }
      ]
    },
    {
      "cell_type": "code",
      "metadata": {
        "colab": {
          "base_uri": "https://localhost:8080/"
        },
        "id": "sLv6VfxKmmle",
        "outputId": "c53107c5-4d05-4acb-f134-5ac3726b9a98"
      },
      "source": [
        "with model:    \n",
        "    print(\"Reference growth conditions\")\n",
        "    print(\"Ensured biomass production rate:\")\n",
        "    print(solution_ribflv.fluxes.BIOMASS_BS_10)\n",
        "    print(\"Maximal riboflavin production rate:\")\n",
        "    print(solution_ribflv.objective_value)\n",
        "    EDA_ref = solution_ribflv.fluxes.EDA\n",
        "    print(EDA_ref)\n",
        "   \n",
        "with model:\n",
        "    model.genes.BSU22100.knock_out()\n",
        "    sol_ribflv_KO = model.optimize()\n",
        "    print(\"\\nWithout 2-dehydro-3-deoxy-phosphogluconate aldolase\")\n",
        "    print(\"Maximal riboflavin production rate\")\n",
        "    print(sol_ribflv_KO.objective_value)\n",
        "    print(sol_ribflv_KO.fluxes.EDA)\n",
        "  "
      ],
      "execution_count": 28,
      "outputs": [
        {
          "output_type": "stream",
          "name": "stdout",
          "text": [
            "Reference growth conditions\n",
            "Ensured biomass production rate:\n",
            "0.02359327786447964\n",
            "Maximal riboflavin production rate:\n",
            "0.3030802735713299\n",
            "0.0\n",
            "\n",
            "Without 2-dehydro-3-deoxy-phosphogluconate aldolase\n",
            "Maximal riboflavin production rate\n",
            "0.30308027357133527\n",
            "0.0\n"
          ]
        }
      ]
    },
    {
      "cell_type": "code",
      "metadata": {
        "id": "-4NTwQZzvBTA",
        "outputId": "ff4ee617-cb8d-4839-ed54-5393982dbc6c",
        "colab": {
          "base_uri": "https://localhost:8080/"
        }
      },
      "source": [
        "with model:    \n",
        "    print(\"Reference growth conditions\")\n",
        "    print(\"Ensured biomass production rate:\")\n",
        "    print(solution_ribflv.fluxes.BIOMASS_BS_10)\n",
        "    print(\"Maximal riboflavin production rate:\")\n",
        "    print(solution_ribflv.objective_value)\n",
        "    PGI_ref = solution_ribflv.fluxes.PGI\n",
        "    print(PGI_ref)\n",
        "   \n",
        "with model:\n",
        "    model.genes.BSU31350.knock_out()\n",
        "    sol_ribflv_KO = model.optimize()\n",
        "    print(\"\\nWithout Glucose-6-phosphate isomerase\")\n",
        "    print(\"Maximal riboflavin production rate\")\n",
        "    print(sol_ribflv_KO.objective_value)\n",
        "    print(sol_ribflv_KO.fluxes.PGI)"
      ],
      "execution_count": 29,
      "outputs": [
        {
          "output_type": "stream",
          "name": "stdout",
          "text": [
            "Reference growth conditions\n",
            "Ensured biomass production rate:\n",
            "0.02359327786447964\n",
            "Maximal riboflavin production rate:\n",
            "0.3030802735713299\n",
            "1.4652435561537107\n",
            "\n",
            "Without Glucose-6-phosphate isomerase\n",
            "Maximal riboflavin production rate\n",
            "0.2987064122096824\n",
            "0.0\n"
          ]
        }
      ]
    },
    {
      "cell_type": "code",
      "metadata": {
        "id": "bZHX4Vko1Uxu",
        "outputId": "e053ca02-5ef9-4db8-b044-820760646b76",
        "colab": {
          "base_uri": "https://localhost:8080/"
        }
      },
      "source": [
        "with model:    \n",
        "    print(\"Reference growth conditions\")\n",
        "    print(\"Ensured biomass production rate:\")\n",
        "    print(solution_ribflv.fluxes.BIOMASS_BS_10)\n",
        "    print(\"Maximal riboflavin production rate:\")\n",
        "    print(solution_ribflv.objective_value)\n",
        "    RPI_ref = solution_ribflv.fluxes.RPI\n",
        "    print(RPI_ref)\n",
        "   \n",
        "with model:\n",
        "    model.genes.BSU36920.knock_out()\n",
        "    sol_ribflv_KO = model.optimize()\n",
        "    print(\"\\nWithout Ribose-5-phosphate isomerase\")\n",
        "    print(\"Maximal riboflavin production rate\")\n",
        "    print(sol_ribflv_KO.objective_value)\n",
        "    print(sol_ribflv_KO.fluxes.RPI)"
      ],
      "execution_count": 30,
      "outputs": [
        {
          "output_type": "stream",
          "name": "stdout",
          "text": [
            "Reference growth conditions\n",
            "Ensured biomass production rate:\n",
            "0.02359327786447964\n",
            "Maximal riboflavin production rate:\n",
            "0.3030802735713299\n",
            "-0.009614229272078334\n",
            "\n",
            "Without Ribose-5-phosphate isomerase\n",
            "Maximal riboflavin production rate\n",
            "0.29575156608558706\n",
            "0.0\n"
          ]
        }
      ]
    }
  ]
}