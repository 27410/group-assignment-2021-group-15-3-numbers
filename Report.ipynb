{
 "cells": [
  {
   "cell_type": "markdown",
   "metadata": {},
   "source": [
    "# Biosynthesis of Riboflavin in <i>Bacillus Subtilis</i>"
   ]
  },
  {
   "cell_type": "markdown",
   "metadata": {},
   "source": [
    "## 1. Introduction \n",
    "\n",
    "\n",
    "### 1.1 Literature review of the compound\n",
    "\n",
    "#### Applicaiton and evaluation of riboflavin \n",
    "\n",
    "Riboflavin, also known as vitamin B2, was found by England chemist Bruce in 1879. However, the chemical essence of this substance was initially not detected until 1933, when American chemist Berger extracted and named this chemical compound as riboflavin. Riboflavin is the universal precursor of flavin mononucleotide (FMN) and flavin adenine dinucleotide (FAD), both of which act as hydrogen carriers and are essential for the activity of a wide variety of metabolic enzymes in higher eukaryotes Riboflavin has an important effect on respiration because it is a coenzyme of flavin protein. This substance participates directly in the biological oxidation of protein, fat, and carbohydrate and make an important influence on life activity. At the same time, riboflavin is the essential nutrient of metabolism and physiological functions. Riboflavin is synthesized by all plants, fungi and most bacteria, but not by higher animals including humans. Therefore, humans and animals must obtain riboflavin through dietary sources. \n",
    "\n",
    "Ordinary people need 0.3-1.8g riboflavin per day to maintain a healthy body condition. Also, riboflavin accumulates cell regeneration, the growth of skin, nails, and hair. Riboflavin is also an important food additive, medicine, and food dye. Additionally, riboflavin is found to cure migraine, angina pectoris, and cancer. The product of riboflavin will increase by 4.5% during the period from 2020 to 2025. There are four international companies (e.g., BASF and DSM) that focus on producing riboflavin available in the form of vitamins, botanicals, and fatty acids. \n"
   ]
  },
  {
   "cell_type": "markdown",
   "metadata": {},
   "source": [
    "#### Metabolic pathway of riboflavin biosynthesis \n"
   ]
  },
  {
   "cell_type": "markdown",
   "metadata": {},
   "source": [
    "![Biosynthesis-of-riboflavin-Riboflavin-biosynthesis-is-initiated-by-the-enzymes-GTP](https://user-images.githubusercontent.com/91544907/144160423-fe3b1e85-9e69-42ea-8cd5-7f758dda5d9d.png) \n",
    "\n",
    "Figure 1. Biosynthesis of Riboflavin \n",
    "\n",
    "\n",
    "Riboflavin biosynthesis is initiated by the enzymes GTP cyclohydrolase II (GCHII) and 3,4-dihydroxy-2-butanone-4-phosphate synthase (DHBPS). After that, GTP is converted to 2,5-diamino-6-ribosylamino-4-pyrimidinone 5'-phosphate and ribulose-5-phosphate is converted to 3,4-dihydroxy-2-butanone 4-phosphate. The first committed substrates of the riboflavin biosynthetic pathway are 2,5-diamino-6-ribosylamino-4-pyrimidinone 5'-phosphate and 3,4-dihydroxy-2-butanone 4-phosphate. \n",
    "\n",
    "Then, 2,5-diamino-6-ribosylamino-4-pyrimidinone 5'-phosphate is respectively modified to 5-amino-6-ribosylamino-2,4-pyrimidine 5'-phosphate, 5-amino-6- ribitylamino-2,4-pyrimidinedione 5'-phosphate and 5-amino-6-ribitylamino- 2,4-pyrimidinedione by deaminase, reductase and phosphatase reactions. Additionally, 5-amino-6-ribitylamino- 2,4-pyrimidinedione is condensed with 3,4-dihydroxy-2-butanone 4-phosphate by the enzyme lumazine synthase, which produce 6,7-dimethyl-8-ribityllumazine. \n",
    "\n",
    "Finally, riboflavin synthase catalyzes a dismutation reaction of two molecules of 6,7-dimethyl-8-ribityllumazine, which produce riboflavin. At the same time, 5-amino-6-ribitylamino- 2,4-pyrimidinedione is also be produced as a by-product, which again serves as substrate for lumazine synthase. \n"
    ]
  },
  {
   "cell_type": "markdown",
   "metadata": {},
   "source": [
    "### 1.2 Literature review of the cell factory \n",
    "\n",
    "###*MISSING FIG2 \n",
    "\n",
    "#### General information and advantages \n",
    "\n",
    "Bacillus subtilis is one of the most popular bacterial in the current market. BS can grow in different environments and use a lot of nutrients, which decide BS has the potential ability to produce multiple substances (e.g., enzymes and vitamins). It can express nearly 200 Protein genes of prokaryotes and eukaryotes which belong to advanced science. The BS strains can transport the product expressed by the target gene to the outside of the cell. That is the reason why BS can decrease the cost and workload of collecting, separating, and purifying the genetic engineering product. Meanwhile, BS can produce beneficial metabolites during the growth process, which simplifies the product technology. In recent years, some researchers try to create modified BS strains (e.g., DB104 and DB403) that are good at increasing the stability of target gene expression proteins. \n",
    "\n",
    "#### General disadvantages \n",
    "\n",
    "However, there are some metabolites of BS are released in Petri dishes, which include many degrading proteases. These proteases have a negative effect on the stability of the expression product and destroy them. \n",
    "\n",
    "#### Suitability of the cell factory for riboflavin \n",
    "\n",
    "In B. subtilis, the riboflavin production was increased by amplifying copies of rib operon or ribA gene, or by enhancing the energy generation and reducing the maintenance metabolism. The pentose phosphate pathway is widely used to produce Ru5P which is an important precursor metabolite to produce riboflavin. At the same time, Ru5P is a catalyst to increase the productivity of riboflavin so the pathway of BS can effectively increase the production of riboflavin. On the other hand, there are some genes that can be knocked out or over-expressed to control the concentration of riboflavin, which is convenient for researchers to modify. \n",
    "\n",
    "#### Other suitable options for cell factory \n",
    "\n",
    "E. coli is a suitable alternative cell factory, which has been employed for the efficient production of biofuels, amino acids, and bulk chemicals. Although wild-type E. coli does not accumulate riboflavin under natural conditions, it may be an efficient host to produce riboflavin because it has clear genetic background, fast growth rate, and low maintenance cost. People change the central metabolism and riboflavin biosynthesis pathways to increase the metabolic capacity of E. coli. \n"
   ]
  },
  {
   "cell_type": "markdown",
   "metadata": {},
   "source": [
    "## 2. Problem definition \n",
    "\n",
    "\n",
    "Traditionally, the method to produce riboflavin is almost Chemical synthesis and Semi-microbial fermentation synthesis. The production rate of these methods is just 60% which means they waste more raw materials and cost more than 25% energy than the microbial fermentation method. Additionally, traditional methods take some negative effects on the environment because they produce many organic solvents and non-renewable raw materials. On the other hand, using cell factories to produce riboflavin has more advantages (e.g., low cost, environmentally friendly, short production period, and high purity production). This method occupies 90% of the market share. \n",
    "\n",
    "Before the 1970s, the microbial fermentation method is mainly based on Ashbya gossypii, Candida famata, and Eremothecium ashbyii. Researchers directional change them by genetic engineering and mutagenesis screening. However, there are some disadvantages (e.g., long fermentation cycle, large cell viscosity, and difficulty in separation) to using these cell factories. \n",
    "\n",
    "Bacillus stubilis is an important type of prokaryotic bacteria. Scientists have reported 3 B. subtilis Metabolic models, which include clear genetic information so B. subtilis become the main production strain gradually. \n"
   ]
  },
  {
   "cell_type": "markdown",
   "metadata": {},
   "source": [
    "## 3. Project category II: Selection and assessment of existing GSM \n",
    "\n",
    "\n",
    "There are some industrial workhorse strains of B. subtilis. IYO844 was chosen as the GSM, which has 990 metabolites, 1250 reactions, and 844 genes. Additionally, there are some other modules were published. In 2007, scientists Oh published the first module including 844 genes, 1020 reactions, and 988 metabolites. In 2008, Han published the second module including 764 genes, 582 enzymes, and 1057 reactions. In 2009, Henry finished the third module including 1103 genes and 1437 reactions. Although these modules are correct, the actual situation is affected by some unstable factors in the organism. The model predictions are not expected to be completely accurate. \n",
    "\n",
    "#### Performance comparison with MEMOTE\n",
    "\n",
    "| *A. niger* strain | Total score(%) | Total reactions | Total metabolites | Total Genes | Metabolic coverage | Consistency score (%) | Annotation-metabolites score  (%) | Annotation-reactions score (%) | \n",
    "|:-:|:-:|:-:|:-:|:-:|:-:|:-:|:-:|:-:|\n",
    "| iYO844 | 86 | 1250 | 990 | 855 | 1.48 | 98.23 | 98 | 80 |\n",
    "\n",
    "This module is suitable for GSM because it has high consistency. Meanwhile, the annotation of metabolities and reactions has high scores. On the other hand, the shortcoming of IYO844 is obvious. Various genome sequences (e.g., refseq, uniprot, and ncbigi) not be explained. \n"
   ]
  },
  {
   "cell_type": "markdown",
   "metadata": {},
   "source": [
    "## 4. Computer-Aided Cell Factory Engineering \n",
    "\n",
    "###*MISSING FIG3 \n",
    "\n",
    "From the model file, it can be concluded that there are 1250 reactions of Bacillus subtilis in the process of producing riboflavin through simple operation of the software, as shown in the figure below. The metabolism in the whole process was expanded, and a total of 990 groups were obtained. The product, riboflavin, was also analyzed and located in detail. Finally, the data are simulated as a whole, and the data diagram is obtained. \n",
    "\n",
    "### 4.1 Carbon sources and oygen optimization \n",
    "\n",
    "In this step, the cell factory method was used to optimize and analyze the carbon source and oxygen content required for the reaction in Bacillus subtilis. Glucose was selected as the carbon source of the whole reaction, and then it was fully rationalized. The obtained data are used and the amount of biomass is correctly set, and the minimum amount required is assumed. After simulation, the data obtained is that under the input of normal glucose, the yield of riboflavin is 0.30, and the yield of biomass is 0.12; When the minimum glucose input, the yield of riboflavin did not change, but the amount of biomass decreased, which is indeed worthy of attention. There is no doubt that as a reference control, when the input of glucose is 0, the conclusion is also scientific, and there is no production of riboflavin and biomass, which is also correct. \n",
    "\n",
    "Next, under the condition of equal glucose input, the effects of anaerobic and aerobic conditions are explored. The data obtained are basically no different from the previous data, which seems to indicate that aerobic or anaerobic will not affect the production of riboflavin by Bacillus subtilis, but in practice, The presence or absence of oxygen should actually have a different impact on the whole reaction, which is not the case through simulation. The reason may come from the insufficient setting amount of oxygen or from the deviation brought by the simulation process. \n",
    "\n",
    "### 4.2 Gene knockout strategies \n",
    "\n",
    "###*MISSING FIG4 \n",
    "\n",
    "Figure 4: An overview of the metabolic pathways in Bacillus subtilis that relate to the production of riboflavin [1]. The gene names shown in the parenthesis are the proper names of the genes in Bacillus subtilis. (ribA, ribH, ribE, ribC). \n",
    "\n",
    "In the research done by Lin et al (2014), three genes are deleted to increase the production of riboflavin: pgi, edd, and eda. The names of the enzymes of the corresponding genes are: phosphoglucose isomerase; phosphogluconate dehydratase and multifunctional 2-keto-3-deoxygluconate 6-phosphate aldolase. \n",
    "\n",
    "According to previous studies (Lin et al, 2014), pgi gene is in charge of endoding of phosphoglucose isomerase, and as it is disrupted, the glycosis pathway is then blocked, glucose 6-phosphate would then be forced to be metabolized eclusively through PP pathway. Therefore, the production of riboflavin would be increased as pgi gene is knocked out from the GSM model. \n",
    "Lin et al argued that the disruption of edd and eda gene would increase the flu from 6-phosphogluconate to Ru5P, thus improving the produciton of riboflavin. \n",
   "\n",
    "From the research done by Zhu et al (2007), it is found that a 50% increase in the riboflavin production could be obtained as the expression of gene encoding acetolactate synthase, alsS,  is increased in the pta-disrupted mutant, which shows the possibility of eliminating pta gene in order to improve riboflavin yield. \n",
    "\n",
    "It could also be found from the metabolic pathway of Bacillus Subtilis that after the biosynthesis from DRL to riboflavin, the aimed product riboflavin could be degraded into FMN and FAD eventually.  The ideal here in this project is to inhibit ribC gene that in charge of this reaction process, to maintain a relatively high yield of riboflavin. \n",
    "\n",
    "From the GSM model iYO844 used in this project, edd gene and its relative genes were not found in genes in the model, so it could not be considered as a possible gene to knockout. For eda and pgi genes, the maximum production rate of riboflavin maintained in around 0.303 before and after gene knockout, indicating that the elimination of both eda and pgi genes do not influence the production of riboflavin. \n",
    "\n",
    "For pta gene, since the disruption of pta gene consists with the increased epression of alsS gene, at the same time of knocking out pta gene, alsS gene was set to be overexpressed by 150%. Unfortunately, the resulting production rate is still the same as the original one. Thus, the elimination of pta gene and the overexpression of alsS gene do not influence the production of riboflavin. \n"
   ]
  },
  {
   "cell_type": "markdown",
   "metadata": {},
   "source": [
    "## 5. Discussion \n",
    "\n",
    "\n",
    "Through the above research steps, through the determination and rational use of carbon sources, and then knock out genes to improve the response results, and then carry out coding prediction and relevant adjustment of enzyme metabolism for the genes to be knocked out. Although the latter two failed to draw corresponding conclusions, the overall metabolic process of riboflavin production of Bacillus subtilis was studied. Firstly, when using the optimal production rate of riboflavin obtained by carbon source simulation, it is not difficult to draw a conclusion through control test that Bacillus subtilis in the model cannot react. When glucose is not provided, it also shows that this bacterium needs to rely on glucose in the production of riboflavin. At the same time, when the minimum amount of glucose was used in another simulation, the conclusion was really unexpected, that is, the yield of riboflavin did not change, but the amount of biomass decreased, which may be a metabolic factor in the self-regulation of Bacillus subtilis, or the content of glucose will affect the activity of the enzyme producing substances, It has little effect on riboflavin producing enzymes. It is not difficult to see the effects and changes in the complete metabolism of Bacillus subtilis, and the different expression and inhibition of different genes under different conditions. Although no complete data conclusion was obtained during the complete test, the effect of the amount of glucose on the whole metabolic reaction was obvious to all, and the result was similar to that of riboflavin production by using E. coli through glucose. \n",
    "\n",
    "Of course, the conclusions of simulation research under anaerobic and aerobic conditions are not very representative of the real results, which may be caused by problems in the simulation process. Of course, riboflavin can be produced with or without oxygen, but the output of biomass is different. \n",
    "\n",
    "Finally, under the simulated condition of knocking out some genes, the normal result should be to increase the production of riboflavin, because they basically cut off the production path of by-products. However, the selected knockout genes did not achieve the desired results, possibly because the knockout genes themselves were difficult to escape control of Bacillus subtilis under normal conditions, so they could not have too much impact. It also shows that further research is needed to find more genes worth knocking out. \n"
   ]
  },
  {
   "cell_type": "markdown",
   "metadata": {},
   "source": [
    "## 6. Conclusion (<200 words)"
   ]
  },
  {
   "cell_type": "markdown",
   "metadata": {},
   "source": [
    "## References"
   ]
  },
  {
   "cell_type": "code",
   "execution_count": null,
   "metadata": {},
   "outputs": [],
   "source": []
  }
 ],
 "metadata": {
  "kernelspec": {
   "display_name": "python3.6",
   "language": "python",
   "name": "python3.6"
  },
  "language_info": {
   "codemirror_mode": {
    "name": "ipython",
    "version": 3
   },
   "file_extension": ".py",
   "mimetype": "text/x-python",
   "name": "python",
   "nbconvert_exporter": "python",
   "pygments_lexer": "ipython3",
   "version": "3.6.11"
  }
 },
 "nbformat": 4,
 "nbformat_minor": 4
}
