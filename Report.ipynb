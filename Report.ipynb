{
 "cells": [
  {
   "cell_type": "markdown",
   "metadata": {},
   "source": [
    "# [Title]"
   ]
  },
  {
   "cell_type": "markdown",
   "metadata": {},
   "source": [
    "## 1. Introduction"
   ]
  },
  {
   "cell_type": "markdown",
   "metadata": {},
   "source": [
    "### 1.1 Literature review of the compound (<500 words)Riboflavin, also known as vitamin B2, was found by England chemist Bruce in 1879. However, the chemical essence of this substance was initially not detected until 1933, when American chemist Berger extracted and named this chemical compound as riboflavin. Riboflavin is the universal precursor of flavin mononucleotide (FMN) and flavin adenine dinucleotide (FAD), both of which act as hydrogen carriers and are essential for the activity of a wide variety of metabolic enzymes in higher eukaryotes Riboflavin has an important effect on respiration because it is a coenzyme of flavin protein. This substance participates directly in the biological oxidation of protein, fat, and carbohydrate and make an important influence on life activity. At the same time, riboflavin is the essential nutrient of metabolism and physiological functions. Riboflavin is synthesized by all plants, fungi and most bacteria, but not by higher animals including humans. Therefore, humans and animals must obtain riboflavin through dietary sources. People need 0.3-1.8g riboflavin per day to maintain a healthy body condition. Also, riboflavin accumulates cell regeneration, the growth of skin, nails, and hair. Riboflavin is an important food additive, medicine, and food dye. Additionally, riboflavin is found to cure migraine, angina pectoris, and cancer. The product of riboflavin will increase by 4.5% during the period from 2020 to 2025. There are four international companies (e.g., BASF and DSM) that focus on producing riboflavin available in the form of vitamins, botanicals, and fatty acids. 

 "
   ]
  },
  {
   "cell_type": "markdown",
   "metadata": {},
   "source": [
    "### 1.2 Literature review of the cell factory (<500 words)"
   ]
  },
  {
   "cell_type": "markdown",
   "metadata": {},
   "source": [
    "## 2. Problem definition (<300 words)"
   ]
  },
  {
   "cell_type": "markdown",
   "metadata": {},
   "source": [
    "## 3. *If Project category I:* Reconstruction of a new GSM for your cell factory host of interest (<1500 words)"
   ]
  },
  {
   "cell_type": "markdown",
   "metadata": {},
   "source": [
    "or"
   ]
  },
  {
   "cell_type": "markdown",
   "metadata": {},
   "source": [
    "## 3. *If Project category II:* Selection and assessment of existing GSM (<500 words)"
   ]
  },
  {
   "cell_type": "markdown",
   "metadata": {},
   "source": [
    "## 4. Computer-Aided Cell Factory Engineering (<1500 words if Category II project; <500 words for Category I project)"
   ]
  },
  {
   "cell_type": "markdown",
   "metadata": {},
   "source": [
    "## 5. Discussion (<500 words)"
   ]
  },
  {
   "cell_type": "markdown",
   "metadata": {},
   "source": [
    "## 6. Conclusion (<200 words)"
   ]
  },
  {
   "cell_type": "markdown",
   "metadata": {},
   "source": [
    "## References"
   ]
  },
  {
   "cell_type": "code",
   "execution_count": null,
   "metadata": {},
   "outputs": [],
   "source": []
  }
 ],
 "metadata": {
  "kernelspec": {
   "display_name": "python3.6",
   "language": "python",
   "name": "python3.6"
  },
  "language_info": {
   "codemirror_mode": {
    "name": "ipython",
    "version": 3
   },
   "file_extension": ".py",
   "mimetype": "text/x-python",
   "name": "python",
   "nbconvert_exporter": "python",
   "pygments_lexer": "ipython3",
   "version": "3.6.11"
  }
 },
 "nbformat": 4,
 "nbformat_minor": 4
}


 
